{
  "nbformat": 4,
  "nbformat_minor": 0,
  "metadata": {
    "colab": {
      "name": "Handling_Misssing_Data.ipynb",
      "private_outputs": true,
      "provenance": [],
      "authorship_tag": "ABX9TyM1ALJJmQ23Dw1vrFLDWJzD",
      "include_colab_link": true
    },
    "kernelspec": {
      "name": "python3",
      "display_name": "Python 3"
    },
    "language_info": {
      "name": "python"
    }
  },
  "cells": [
    {
      "cell_type": "markdown",
      "metadata": {
        "id": "view-in-github",
        "colab_type": "text"
      },
      "source": [
        "<a href=\"https://colab.research.google.com/github/Shailesh0209/x_DataScience-PadhaiOne/blob/main/Handling_Misssing_Data.ipynb\" target=\"_parent\"><img src=\"https://colab.research.google.com/assets/colab-badge.svg\" alt=\"Open In Colab\"/></a>"
      ]
    },
    {
      "cell_type": "code",
      "execution_count": null,
      "metadata": {
        "id": "Dnj3U7-FCtCW"
      },
      "outputs": [],
      "source": [
        "import numpy as np\n",
        "import pandas as pd\n",
        "import seaborn as sns"
      ]
    },
    {
      "cell_type": "markdown",
      "source": [
        "#Dealing with missing data"
      ],
      "metadata": {
        "id": "-BwTq-VWDpTF"
      }
    },
    {
      "cell_type": "code",
      "source": [
        "x = np.array([1, 2, 3, 4, 5])"
      ],
      "metadata": {
        "id": "oDXnQDZxDoVq"
      },
      "execution_count": null,
      "outputs": []
    },
    {
      "cell_type": "code",
      "source": [
        "x.sum()"
      ],
      "metadata": {
        "id": "LRF9O0p_ECDC"
      },
      "execution_count": null,
      "outputs": []
    },
    {
      "cell_type": "code",
      "source": [
        "print(x.dtype)"
      ],
      "metadata": {
        "id": "NsRI9Z0rEC8v"
      },
      "execution_count": null,
      "outputs": []
    },
    {
      "cell_type": "code",
      "source": [
        "# let's say 4 is missing\n",
        "x = np.array([1, 2, 3, '--', 5])"
      ],
      "metadata": {
        "id": "zRXhtyRlEFRC"
      },
      "execution_count": null,
      "outputs": []
    },
    {
      "cell_type": "code",
      "source": [
        "print(x.dtype)"
      ],
      "metadata": {
        "id": "k4ugSnoCEOD7"
      },
      "execution_count": null,
      "outputs": []
    },
    {
      "cell_type": "code",
      "source": [
        "# we cannot perform sum\n",
        "x.sum()"
      ],
      "metadata": {
        "id": "HDnRCibGERiU"
      },
      "execution_count": null,
      "outputs": []
    },
    {
      "cell_type": "code",
      "source": [
        "x = np.array([1, 2, 3, None, 5]) # replacing string with None"
      ],
      "metadata": {
        "id": "-0h3ZeclEZX-"
      },
      "execution_count": null,
      "outputs": []
    },
    {
      "cell_type": "code",
      "source": [
        "x.sum() # we still cannot perform arithmetic operation"
      ],
      "metadata": {
        "id": "tDS9cestEpZW"
      },
      "execution_count": null,
      "outputs": []
    },
    {
      "cell_type": "code",
      "source": [
        "# another way\n",
        "x = np.array([1, 2, 3, np.nan, 5])"
      ],
      "metadata": {
        "id": "A4nhjWHpEzNH"
      },
      "execution_count": null,
      "outputs": []
    },
    {
      "cell_type": "code",
      "source": [
        "x.sum()"
      ],
      "metadata": {
        "id": "MB7OgU_dLcLi"
      },
      "execution_count": null,
      "outputs": []
    },
    {
      "cell_type": "code",
      "source": [
        "1 + np.nan"
      ],
      "metadata": {
        "id": "IR9N-HJCLeMb"
      },
      "execution_count": null,
      "outputs": []
    },
    {
      "cell_type": "code",
      "source": [
        ""
      ],
      "metadata": {
        "id": "zvtZYqUJLrWc"
      },
      "execution_count": null,
      "outputs": []
    }
  ]
}